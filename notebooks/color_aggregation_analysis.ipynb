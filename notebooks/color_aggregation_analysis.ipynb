{
 "cells": [
  {
   "cell_type": "markdown",
   "id": "casual-dragon",
   "metadata": {},
   "source": [
    "## WikiArtVectors - Color Aggregation and Analysis\n",
    "\n",
    "In this notebook we will aggregate the color vectors for paintings by artist, style, and genre by year and do some basic explorations.\n",
    "\n",
    "### Imports and Data"
   ]
  },
  {
   "cell_type": "code",
   "execution_count": null,
   "id": "rolled-johnston",
   "metadata": {},
   "outputs": [],
   "source": [
    "import pandas as pd"
   ]
  },
  {
   "cell_type": "code",
   "execution_count": 12,
   "id": "wired-notion",
   "metadata": {},
   "outputs": [],
   "source": [
    "import numpy as np"
   ]
  },
  {
   "cell_type": "code",
   "execution_count": 3,
   "id": "associate-pocket",
   "metadata": {},
   "outputs": [],
   "source": [
    "color_df = pd.read_feather(\"color_embedding.feather\")"
   ]
  },
  {
   "cell_type": "code",
   "execution_count": 4,
   "id": "fantastic-profit",
   "metadata": {},
   "outputs": [],
   "source": [
    "color_df = color_df[color_df['date'].notnull()]"
   ]
  },
  {
   "cell_type": "code",
   "execution_count": 5,
   "id": "institutional-spyware",
   "metadata": {},
   "outputs": [],
   "source": [
    "color_df.replace(0, 0.000001, inplace=True)"
   ]
  },
  {
   "cell_type": "code",
   "execution_count": 6,
   "id": "hungry-stevens",
   "metadata": {},
   "outputs": [
    {
     "data": {
      "text/html": [
       "<div>\n",
       "<style scoped>\n",
       "    .dataframe tbody tr th:only-of-type {\n",
       "        vertical-align: middle;\n",
       "    }\n",
       "\n",
       "    .dataframe tbody tr th {\n",
       "        vertical-align: top;\n",
       "    }\n",
       "\n",
       "    .dataframe thead th {\n",
       "        text-align: right;\n",
       "    }\n",
       "</style>\n",
       "<table border=\"1\" class=\"dataframe\">\n",
       "  <thead>\n",
       "    <tr style=\"text-align: right;\">\n",
       "      <th></th>\n",
       "      <th>color_embedding1</th>\n",
       "      <th>color_embedding2</th>\n",
       "      <th>color_embedding3</th>\n",
       "      <th>color_embedding4</th>\n",
       "      <th>color_embedding5</th>\n",
       "      <th>color_embedding6</th>\n",
       "      <th>color_embedding7</th>\n",
       "      <th>color_embedding8</th>\n",
       "      <th>artist</th>\n",
       "      <th>date</th>\n",
       "      <th>genre</th>\n",
       "      <th>style</th>\n",
       "      <th>title</th>\n",
       "      <th>new_filename</th>\n",
       "    </tr>\n",
       "  </thead>\n",
       "  <tbody>\n",
       "    <tr>\n",
       "      <th>0</th>\n",
       "      <td>1.487098</td>\n",
       "      <td>377.844440</td>\n",
       "      <td>0.018706</td>\n",
       "      <td>143.500266</td>\n",
       "      <td>0.046764</td>\n",
       "      <td>303.555017</td>\n",
       "      <td>0.009353</td>\n",
       "      <td>15.291855</td>\n",
       "      <td>John French Sloan</td>\n",
       "      <td>1920</td>\n",
       "      <td>cityscape</td>\n",
       "      <td>New Realism</td>\n",
       "      <td>Cornelia Street</td>\n",
       "      <td>0.jpg</td>\n",
       "    </tr>\n",
       "    <tr>\n",
       "      <th>1</th>\n",
       "      <td>0.000001</td>\n",
       "      <td>664.406105</td>\n",
       "      <td>0.000001</td>\n",
       "      <td>0.000001</td>\n",
       "      <td>0.000001</td>\n",
       "      <td>177.347394</td>\n",
       "      <td>0.000001</td>\n",
       "      <td>0.000001</td>\n",
       "      <td>M.C. Escher</td>\n",
       "      <td>1918</td>\n",
       "      <td>flower painting</td>\n",
       "      <td>Expressionism</td>\n",
       "      <td>Sunflowers</td>\n",
       "      <td>1.jpg</td>\n",
       "    </tr>\n",
       "    <tr>\n",
       "      <th>3</th>\n",
       "      <td>13.346469</td>\n",
       "      <td>444.090440</td>\n",
       "      <td>0.018706</td>\n",
       "      <td>224.140251</td>\n",
       "      <td>0.000001</td>\n",
       "      <td>87.645245</td>\n",
       "      <td>0.000001</td>\n",
       "      <td>72.512388</td>\n",
       "      <td>Nikola Tanev</td>\n",
       "      <td>1932</td>\n",
       "      <td>landscape</td>\n",
       "      <td>Post-Impressionism</td>\n",
       "      <td>Red House - Karlovo</td>\n",
       "      <td>100.jpg</td>\n",
       "    </tr>\n",
       "    <tr>\n",
       "      <th>4</th>\n",
       "      <td>29.274316</td>\n",
       "      <td>325.496725</td>\n",
       "      <td>1.739624</td>\n",
       "      <td>127.843651</td>\n",
       "      <td>104.143613</td>\n",
       "      <td>204.106518</td>\n",
       "      <td>20.594902</td>\n",
       "      <td>28.554149</td>\n",
       "      <td>Vasily Polenov</td>\n",
       "      <td>1903</td>\n",
       "      <td>landscape</td>\n",
       "      <td>Realism</td>\n",
       "      <td>Oka. Evening.</td>\n",
       "      <td>1000.jpg</td>\n",
       "    </tr>\n",
       "    <tr>\n",
       "      <th>5</th>\n",
       "      <td>8.454946</td>\n",
       "      <td>634.859842</td>\n",
       "      <td>0.000001</td>\n",
       "      <td>198.401300</td>\n",
       "      <td>0.000001</td>\n",
       "      <td>0.037411</td>\n",
       "      <td>0.000001</td>\n",
       "      <td>0.000001</td>\n",
       "      <td>Kiyoshi Saito</td>\n",
       "      <td>1947</td>\n",
       "      <td>portrait</td>\n",
       "      <td>S_saku hanga</td>\n",
       "      <td>Profile of Brown Haired Woman</td>\n",
       "      <td>10000.jpg</td>\n",
       "    </tr>\n",
       "    <tr>\n",
       "      <th>...</th>\n",
       "      <td>...</td>\n",
       "      <td>...</td>\n",
       "      <td>...</td>\n",
       "      <td>...</td>\n",
       "      <td>...</td>\n",
       "      <td>...</td>\n",
       "      <td>...</td>\n",
       "      <td>...</td>\n",
       "      <td>...</td>\n",
       "      <td>...</td>\n",
       "      <td>...</td>\n",
       "      <td>...</td>\n",
       "      <td>...</td>\n",
       "      <td>...</td>\n",
       "    </tr>\n",
       "    <tr>\n",
       "      <th>103241</th>\n",
       "      <td>0.000001</td>\n",
       "      <td>310.878273</td>\n",
       "      <td>0.000001</td>\n",
       "      <td>142.003815</td>\n",
       "      <td>0.000001</td>\n",
       "      <td>287.496231</td>\n",
       "      <td>0.000001</td>\n",
       "      <td>101.375180</td>\n",
       "      <td>Charles Turner</td>\n",
       "      <td>1819</td>\n",
       "      <td>portrait</td>\n",
       "      <td>Romanticism</td>\n",
       "      <td>James Gillray</td>\n",
       "      <td>99991.jpg</td>\n",
       "    </tr>\n",
       "    <tr>\n",
       "      <th>103242</th>\n",
       "      <td>7.931277</td>\n",
       "      <td>254.764204</td>\n",
       "      <td>0.000001</td>\n",
       "      <td>271.159873</td>\n",
       "      <td>0.000001</td>\n",
       "      <td>218.587107</td>\n",
       "      <td>0.000001</td>\n",
       "      <td>89.311039</td>\n",
       "      <td>Sir Lawrence Alma-Tadema</td>\n",
       "      <td>1871</td>\n",
       "      <td>genre painting</td>\n",
       "      <td>Romanticism</td>\n",
       "      <td>From An Absent One</td>\n",
       "      <td>99992.jpg</td>\n",
       "    </tr>\n",
       "    <tr>\n",
       "      <th>103243</th>\n",
       "      <td>0.000001</td>\n",
       "      <td>11.046290</td>\n",
       "      <td>0.000001</td>\n",
       "      <td>4.190295</td>\n",
       "      <td>0.000001</td>\n",
       "      <td>807.258395</td>\n",
       "      <td>0.000001</td>\n",
       "      <td>19.258519</td>\n",
       "      <td>Taras Shevchenko</td>\n",
       "      <td>1845</td>\n",
       "      <td>landscape</td>\n",
       "      <td>Romanticism</td>\n",
       "      <td>In Gustynia. Refectory church.</td>\n",
       "      <td>99993.jpg</td>\n",
       "    </tr>\n",
       "    <tr>\n",
       "      <th>103247</th>\n",
       "      <td>0.000001</td>\n",
       "      <td>574.646408</td>\n",
       "      <td>0.000001</td>\n",
       "      <td>214.432027</td>\n",
       "      <td>0.000001</td>\n",
       "      <td>1.655449</td>\n",
       "      <td>0.000001</td>\n",
       "      <td>51.019615</td>\n",
       "      <td>Paul Cezanne</td>\n",
       "      <td>1868</td>\n",
       "      <td>portrait</td>\n",
       "      <td>Romanticism</td>\n",
       "      <td>Portrait of Achille Emperaire</td>\n",
       "      <td>99997.jpg</td>\n",
       "    </tr>\n",
       "    <tr>\n",
       "      <th>103249</th>\n",
       "      <td>3.329603</td>\n",
       "      <td>76.000988</td>\n",
       "      <td>2.066972</td>\n",
       "      <td>112.579854</td>\n",
       "      <td>0.187056</td>\n",
       "      <td>127.310540</td>\n",
       "      <td>0.084175</td>\n",
       "      <td>520.194309</td>\n",
       "      <td>Amedeo Modigliani</td>\n",
       "      <td>1915</td>\n",
       "      <td>portrait</td>\n",
       "      <td>Expressionism</td>\n",
       "      <td>Rosa Porprina</td>\n",
       "      <td>99999.jpg</td>\n",
       "    </tr>\n",
       "  </tbody>\n",
       "</table>\n",
       "<p>68119 rows × 14 columns</p>\n",
       "</div>"
      ],
      "text/plain": [
       "        color_embedding1  color_embedding2  color_embedding3  \\\n",
       "0               1.487098        377.844440          0.018706   \n",
       "1               0.000001        664.406105          0.000001   \n",
       "3              13.346469        444.090440          0.018706   \n",
       "4              29.274316        325.496725          1.739624   \n",
       "5               8.454946        634.859842          0.000001   \n",
       "...                  ...               ...               ...   \n",
       "103241          0.000001        310.878273          0.000001   \n",
       "103242          7.931277        254.764204          0.000001   \n",
       "103243          0.000001         11.046290          0.000001   \n",
       "103247          0.000001        574.646408          0.000001   \n",
       "103249          3.329603         76.000988          2.066972   \n",
       "\n",
       "        color_embedding4  color_embedding5  color_embedding6  \\\n",
       "0             143.500266          0.046764        303.555017   \n",
       "1               0.000001          0.000001        177.347394   \n",
       "3             224.140251          0.000001         87.645245   \n",
       "4             127.843651        104.143613        204.106518   \n",
       "5             198.401300          0.000001          0.037411   \n",
       "...                  ...               ...               ...   \n",
       "103241        142.003815          0.000001        287.496231   \n",
       "103242        271.159873          0.000001        218.587107   \n",
       "103243          4.190295          0.000001        807.258395   \n",
       "103247        214.432027          0.000001          1.655449   \n",
       "103249        112.579854          0.187056        127.310540   \n",
       "\n",
       "        color_embedding7  color_embedding8                    artist  date  \\\n",
       "0               0.009353         15.291855         John French Sloan  1920   \n",
       "1               0.000001          0.000001               M.C. Escher  1918   \n",
       "3               0.000001         72.512388              Nikola Tanev  1932   \n",
       "4              20.594902         28.554149            Vasily Polenov  1903   \n",
       "5               0.000001          0.000001             Kiyoshi Saito  1947   \n",
       "...                  ...               ...                       ...   ...   \n",
       "103241          0.000001        101.375180            Charles Turner  1819   \n",
       "103242          0.000001         89.311039  Sir Lawrence Alma-Tadema  1871   \n",
       "103243          0.000001         19.258519          Taras Shevchenko  1845   \n",
       "103247          0.000001         51.019615              Paul Cezanne  1868   \n",
       "103249          0.084175        520.194309         Amedeo Modigliani  1915   \n",
       "\n",
       "                  genre               style                           title  \\\n",
       "0             cityscape         New Realism                 Cornelia Street   \n",
       "1       flower painting       Expressionism                      Sunflowers   \n",
       "3             landscape  Post-Impressionism             Red House - Karlovo   \n",
       "4             landscape             Realism                   Oka. Evening.   \n",
       "5              portrait        S_saku hanga   Profile of Brown Haired Woman   \n",
       "...                 ...                 ...                             ...   \n",
       "103241         portrait         Romanticism                   James Gillray   \n",
       "103242   genre painting         Romanticism              From An Absent One   \n",
       "103243        landscape         Romanticism  In Gustynia. Refectory church.   \n",
       "103247         portrait         Romanticism   Portrait of Achille Emperaire   \n",
       "103249         portrait       Expressionism                   Rosa Porprina   \n",
       "\n",
       "       new_filename  \n",
       "0             0.jpg  \n",
       "1             1.jpg  \n",
       "3           100.jpg  \n",
       "4          1000.jpg  \n",
       "5         10000.jpg  \n",
       "...             ...  \n",
       "103241    99991.jpg  \n",
       "103242    99992.jpg  \n",
       "103243    99993.jpg  \n",
       "103247    99997.jpg  \n",
       "103249    99999.jpg  \n",
       "\n",
       "[68119 rows x 14 columns]"
      ]
     },
     "execution_count": 6,
     "metadata": {},
     "output_type": "execute_result"
    }
   ],
   "source": [
    "color_df"
   ]
  },
  {
   "cell_type": "code",
   "execution_count": 82,
   "id": "oriented-baptist",
   "metadata": {},
   "outputs": [
    {
     "data": {
      "text/html": [
       "<div>\n",
       "<style scoped>\n",
       "    .dataframe tbody tr th:only-of-type {\n",
       "        vertical-align: middle;\n",
       "    }\n",
       "\n",
       "    .dataframe tbody tr th {\n",
       "        vertical-align: top;\n",
       "    }\n",
       "\n",
       "    .dataframe thead th {\n",
       "        text-align: right;\n",
       "    }\n",
       "</style>\n",
       "<table border=\"1\" class=\"dataframe\">\n",
       "  <thead>\n",
       "    <tr style=\"text-align: right;\">\n",
       "      <th></th>\n",
       "      <th>color_embedding1</th>\n",
       "      <th>color_embedding2</th>\n",
       "      <th>color_embedding3</th>\n",
       "      <th>color_embedding4</th>\n",
       "      <th>color_embedding5</th>\n",
       "      <th>color_embedding6</th>\n",
       "      <th>color_embedding7</th>\n",
       "      <th>color_embedding8</th>\n",
       "      <th>artist</th>\n",
       "      <th>date</th>\n",
       "      <th>genre</th>\n",
       "      <th>style</th>\n",
       "      <th>title</th>\n",
       "      <th>new_filename</th>\n",
       "    </tr>\n",
       "  </thead>\n",
       "  <tbody>\n",
       "    <tr>\n",
       "      <th>3904</th>\n",
       "      <td>25.074901</td>\n",
       "      <td>383.166193</td>\n",
       "      <td>6.303798</td>\n",
       "      <td>205.125975</td>\n",
       "      <td>0.523758</td>\n",
       "      <td>149.579597</td>\n",
       "      <td>0.000001</td>\n",
       "      <td>71.979277</td>\n",
       "      <td>Pablo Picasso</td>\n",
       "      <td>1902</td>\n",
       "      <td>genre painting</td>\n",
       "      <td>Post-Impressionism</td>\n",
       "      <td>Mother and son on the shore</td>\n",
       "      <td>10586.jpg</td>\n",
       "    </tr>\n",
       "    <tr>\n",
       "      <th>48181</th>\n",
       "      <td>462.652498</td>\n",
       "      <td>195.751625</td>\n",
       "      <td>0.000001</td>\n",
       "      <td>0.523775</td>\n",
       "      <td>83.177371</td>\n",
       "      <td>99.246046</td>\n",
       "      <td>0.000001</td>\n",
       "      <td>0.402185</td>\n",
       "      <td>Pablo Picasso</td>\n",
       "      <td>1902</td>\n",
       "      <td>genre painting</td>\n",
       "      <td>Symbolism</td>\n",
       "      <td>Mother and child</td>\n",
       "      <td>50435.jpg</td>\n",
       "    </tr>\n",
       "    <tr>\n",
       "      <th>53906</th>\n",
       "      <td>1.103632</td>\n",
       "      <td>302.011803</td>\n",
       "      <td>0.495699</td>\n",
       "      <td>492.566089</td>\n",
       "      <td>0.000001</td>\n",
       "      <td>12.383129</td>\n",
       "      <td>0.000001</td>\n",
       "      <td>33.193146</td>\n",
       "      <td>Pablo Picasso</td>\n",
       "      <td>1902</td>\n",
       "      <td>portrait</td>\n",
       "      <td>Expressionism</td>\n",
       "      <td>Woman in blue</td>\n",
       "      <td>55589.jpg</td>\n",
       "    </tr>\n",
       "    <tr>\n",
       "      <th>56305</th>\n",
       "      <td>0.000001</td>\n",
       "      <td>0.093528</td>\n",
       "      <td>0.000001</td>\n",
       "      <td>0.009353</td>\n",
       "      <td>0.000001</td>\n",
       "      <td>840.958509</td>\n",
       "      <td>0.000001</td>\n",
       "      <td>0.692108</td>\n",
       "      <td>Pablo Picasso</td>\n",
       "      <td>1902</td>\n",
       "      <td>sketch and study</td>\n",
       "      <td>Expressionism</td>\n",
       "      <td>Study to \"Two sisters\"</td>\n",
       "      <td>57748.jpg</td>\n",
       "    </tr>\n",
       "    <tr>\n",
       "      <th>76573</th>\n",
       "      <td>546.921384</td>\n",
       "      <td>176.498964</td>\n",
       "      <td>0.065470</td>\n",
       "      <td>0.626646</td>\n",
       "      <td>63.450213</td>\n",
       "      <td>54.190822</td>\n",
       "      <td>0.000001</td>\n",
       "      <td>0.000001</td>\n",
       "      <td>Pablo Picasso</td>\n",
       "      <td>1902</td>\n",
       "      <td>genre painting</td>\n",
       "      <td>Symbolism</td>\n",
       "      <td>Crouching woman</td>\n",
       "      <td>7599.jpg</td>\n",
       "    </tr>\n",
       "    <tr>\n",
       "      <th>83894</th>\n",
       "      <td>48.896525</td>\n",
       "      <td>473.495696</td>\n",
       "      <td>0.009353</td>\n",
       "      <td>24.485674</td>\n",
       "      <td>34.025547</td>\n",
       "      <td>260.438533</td>\n",
       "      <td>0.000001</td>\n",
       "      <td>0.402171</td>\n",
       "      <td>Pablo Picasso</td>\n",
       "      <td>1902</td>\n",
       "      <td>genre painting</td>\n",
       "      <td>Symbolism</td>\n",
       "      <td>Mother and child on the beach</td>\n",
       "      <td>82578.jpg</td>\n",
       "    </tr>\n",
       "    <tr>\n",
       "      <th>84721</th>\n",
       "      <td>575.871627</td>\n",
       "      <td>168.921222</td>\n",
       "      <td>2.880668</td>\n",
       "      <td>13.243588</td>\n",
       "      <td>44.238823</td>\n",
       "      <td>35.606173</td>\n",
       "      <td>0.000001</td>\n",
       "      <td>0.991399</td>\n",
       "      <td>Pablo Picasso</td>\n",
       "      <td>1902</td>\n",
       "      <td>portrait</td>\n",
       "      <td>Expressionism</td>\n",
       "      <td>Woman in a shawl</td>\n",
       "      <td>83321.jpg</td>\n",
       "    </tr>\n",
       "    <tr>\n",
       "      <th>96509</th>\n",
       "      <td>165.928320</td>\n",
       "      <td>590.293670</td>\n",
       "      <td>0.000001</td>\n",
       "      <td>0.037411</td>\n",
       "      <td>22.605758</td>\n",
       "      <td>62.233642</td>\n",
       "      <td>0.000001</td>\n",
       "      <td>0.654697</td>\n",
       "      <td>Pablo Picasso</td>\n",
       "      <td>1902</td>\n",
       "      <td>genre painting</td>\n",
       "      <td>Symbolism</td>\n",
       "      <td>Two women sitting at a bar</td>\n",
       "      <td>93931.jpg</td>\n",
       "    </tr>\n",
       "  </tbody>\n",
       "</table>\n",
       "</div>"
      ],
      "text/plain": [
       "       color_embedding1  color_embedding2  color_embedding3  color_embedding4  \\\n",
       "3904          25.074901        383.166193          6.303798        205.125975   \n",
       "48181        462.652498        195.751625          0.000001          0.523775   \n",
       "53906          1.103632        302.011803          0.495699        492.566089   \n",
       "56305          0.000001          0.093528          0.000001          0.009353   \n",
       "76573        546.921384        176.498964          0.065470          0.626646   \n",
       "83894         48.896525        473.495696          0.009353         24.485674   \n",
       "84721        575.871627        168.921222          2.880668         13.243588   \n",
       "96509        165.928320        590.293670          0.000001          0.037411   \n",
       "\n",
       "       color_embedding5  color_embedding6  color_embedding7  color_embedding8  \\\n",
       "3904           0.523758        149.579597          0.000001         71.979277   \n",
       "48181         83.177371         99.246046          0.000001          0.402185   \n",
       "53906          0.000001         12.383129          0.000001         33.193146   \n",
       "56305          0.000001        840.958509          0.000001          0.692108   \n",
       "76573         63.450213         54.190822          0.000001          0.000001   \n",
       "83894         34.025547        260.438533          0.000001          0.402171   \n",
       "84721         44.238823         35.606173          0.000001          0.991399   \n",
       "96509         22.605758         62.233642          0.000001          0.654697   \n",
       "\n",
       "              artist  date             genre               style  \\\n",
       "3904   Pablo Picasso  1902    genre painting  Post-Impressionism   \n",
       "48181  Pablo Picasso  1902    genre painting           Symbolism   \n",
       "53906  Pablo Picasso  1902          portrait       Expressionism   \n",
       "56305  Pablo Picasso  1902  sketch and study       Expressionism   \n",
       "76573  Pablo Picasso  1902    genre painting           Symbolism   \n",
       "83894  Pablo Picasso  1902    genre painting           Symbolism   \n",
       "84721  Pablo Picasso  1902          portrait       Expressionism   \n",
       "96509  Pablo Picasso  1902    genre painting           Symbolism   \n",
       "\n",
       "                               title new_filename  \n",
       "3904     Mother and son on the shore    10586.jpg  \n",
       "48181               Mother and child    50435.jpg  \n",
       "53906                  Woman in blue    55589.jpg  \n",
       "56305         Study to \"Two sisters\"    57748.jpg  \n",
       "76573                Crouching woman     7599.jpg  \n",
       "83894  Mother and child on the beach    82578.jpg  \n",
       "84721               Woman in a shawl    83321.jpg  \n",
       "96509     Two women sitting at a bar    93931.jpg  "
      ]
     },
     "execution_count": 82,
     "metadata": {},
     "output_type": "execute_result"
    }
   ],
   "source": [
    "color_df.loc[(color_df['artist'] == 'Pablo Picasso') & (color_df['date'] == '1902')]"
   ]
  },
  {
   "cell_type": "markdown",
   "id": "quiet-vanilla",
   "metadata": {},
   "source": [
    "### Aggregation"
   ]
  },
  {
   "cell_type": "code",
   "execution_count": 7,
   "id": "improved-substitute",
   "metadata": {},
   "outputs": [],
   "source": [
    "artist_color_embeddings = {}"
   ]
  },
  {
   "cell_type": "code",
   "execution_count": 8,
   "id": "motivated-bleeding",
   "metadata": {},
   "outputs": [],
   "source": [
    "genre_color_embeddings = {}"
   ]
  },
  {
   "cell_type": "code",
   "execution_count": 9,
   "id": "written-oklahoma",
   "metadata": {},
   "outputs": [],
   "source": [
    "style_color_embeddings = {}"
   ]
  },
  {
   "cell_type": "code",
   "execution_count": 10,
   "id": "incredible-radio",
   "metadata": {},
   "outputs": [],
   "source": [
    "artwork_embeddings = {}"
   ]
  },
  {
   "cell_type": "code",
   "execution_count": 13,
   "id": "interior-resistance",
   "metadata": {},
   "outputs": [],
   "source": [
    "for i, row in color_df.iterrows():\n",
    "    color_vec = np.array([row['color_embedding1'], row['color_embedding2'], row['color_embedding3'], row['color_embedding4'], \n",
    "                          row['color_embedding5'], row['color_embedding6'], row['color_embedding7'], row['color_embedding8']])\n",
    "    if np.isnan(color_vec).any():\n",
    "        continue\n",
    "    \n",
    "    year = row['date']\n",
    "    artist = row['artist']\n",
    "    genre = row['genre']\n",
    "    style = row['style']\n",
    "    title = row['title']\n",
    "    \n",
    "    artwork_embeddings[(title, artist, year)] = color_vec\n",
    "    \n",
    "    if (artist, year) not in artist_color_embeddings:\n",
    "        artist_color_embeddings[(artist, year)] = []\n",
    "    if (artist, year) in artist_color_embeddings:\n",
    "        artist_color_embeddings[(artist, year)].append(color_vec)\n",
    "    \n",
    "    if (genre, year) not in genre_color_embeddings:\n",
    "        genre_color_embeddings[(genre, year)] = []\n",
    "    if (genre, year) in genre_color_embeddings:\n",
    "        genre_color_embeddings[(genre, year)].append(color_vec)\n",
    "        \n",
    "    if (style, year) not in style_color_embeddings:\n",
    "        style_color_embeddings[(style, year)] = []\n",
    "    if (style, year) in style_color_embeddings:\n",
    "        style_color_embeddings[(style, year)].append(color_vec)"
   ]
  },
  {
   "cell_type": "code",
   "execution_count": 17,
   "id": "spanish-webster",
   "metadata": {},
   "outputs": [
    {
     "data": {
      "text/plain": [
       "[array([1.48709785e+00, 3.77844440e+02, 1.87056333e-02, 1.43500266e+02,\n",
       "        4.67640833e-02, 3.03555017e+02, 9.35281665e-03, 1.52918552e+01]),\n",
       " array([205.72058506,  11.62409614, 119.77330442, 168.23743441,\n",
       "         63.24621757,  61.45124979,   1.64138765, 210.05922375])]"
      ]
     },
     "execution_count": 17,
     "metadata": {},
     "output_type": "execute_result"
    }
   ],
   "source": [
    "artist_color_embeddings[('John French Sloan', '1920')]"
   ]
  },
  {
   "cell_type": "code",
   "execution_count": 16,
   "id": "fifth-journal",
   "metadata": {},
   "outputs": [
    {
     "data": {
      "text/plain": [
       "array([1.48709785e+00, 3.77844440e+02, 1.87056333e-02, 1.43500266e+02,\n",
       "       4.67640833e-02, 3.03555017e+02, 9.35281665e-03, 1.52918552e+01])"
      ]
     },
     "execution_count": 16,
     "metadata": {},
     "output_type": "execute_result"
    }
   ],
   "source": [
    "artwork_embeddings[('Cornelia Street', 'John French Sloan', '1920')]"
   ]
  },
  {
   "cell_type": "code",
   "execution_count": 31,
   "id": "excited-retreat",
   "metadata": {},
   "outputs": [],
   "source": [
    "import scipy.stats"
   ]
  },
  {
   "cell_type": "markdown",
   "id": "further-tuition",
   "metadata": {},
   "source": [
    "### Calculating Averages and Entropy \n",
    "\n",
    "We can use entropy measures to calculate the entropy in color usage for artists."
   ]
  },
  {
   "cell_type": "code",
   "execution_count": 32,
   "id": "healthy-sweet",
   "metadata": {},
   "outputs": [],
   "source": [
    "def jensen_shannon(dist1, dist2):\n",
    "    \"\"\"\n",
    "    Calculates Jensen-Shannon (JS) divergence between two distributions\n",
    "\n",
    "    Args:\n",
    "        dist1 (array): first distribution\n",
    "        dist2 (array): second distribution\n",
    "\n",
    "    Returns:\n",
    "        js (float): JS divergence\n",
    "    \"\"\"\n",
    "    dist1 = np.array(dist1)\n",
    "    dist2 = np.array(dist2)\n",
    "\n",
    "    mean_dist = (dist1 + dist2) / 2.0\n",
    "    js = (\n",
    "        scipy.stats.entropy(dist1, mean_dist) + scipy.stats.entropy(dist2, mean_dist)\n",
    "    ) / 2.0\n",
    "    return js"
   ]
  },
  {
   "cell_type": "code",
   "execution_count": 33,
   "id": "wooden-revision",
   "metadata": {},
   "outputs": [],
   "source": [
    "def var_avg_color(embeddings):\n",
    "    variances, lengths, averages = {}, {}, {}\n",
    "    for item in embeddings:\n",
    "        differences_js = []\n",
    "        for painting_1 in embeddings[item]:\n",
    "            for painting_2 in embeddings[item]:\n",
    "                differences_js.append(jensen_shannon(painting_1, painting_2))\n",
    "\n",
    "        mean_js = np.mean(differences_js)\n",
    "\n",
    "        variances[item] = mean_js\n",
    "        averages[item] = np.mean(embeddings[item], axis=0)\n",
    "    return variances, averages"
   ]
  },
  {
   "cell_type": "code",
   "execution_count": 35,
   "id": "settled-bidder",
   "metadata": {},
   "outputs": [],
   "source": [
    "# artist_color_variances, artist_avg_color = var_avg_color()"
   ]
  },
  {
   "cell_type": "code",
   "execution_count": 36,
   "id": "pursuant-lafayette",
   "metadata": {},
   "outputs": [],
   "source": [
    "artist_avg_color = {}"
   ]
  },
  {
   "cell_type": "code",
   "execution_count": 38,
   "id": "novel-street",
   "metadata": {},
   "outputs": [],
   "source": [
    "for artist in artist_color_embeddings:\n",
    "    artist_avg_color[artist] = np.mean(artist_color_embeddings[artist], axis=0)"
   ]
  },
  {
   "cell_type": "code",
   "execution_count": 39,
   "id": "honey-portable",
   "metadata": {},
   "outputs": [],
   "source": [
    "style_avg_color = {}"
   ]
  },
  {
   "cell_type": "code",
   "execution_count": 40,
   "id": "fifty-johnston",
   "metadata": {},
   "outputs": [],
   "source": [
    "for style in style_color_embeddings:\n",
    "    style_avg_color[style] = np.mean(style_color_embeddings[style], axis=0)"
   ]
  },
  {
   "cell_type": "code",
   "execution_count": 41,
   "id": "smaller-nylon",
   "metadata": {},
   "outputs": [],
   "source": [
    "genre_avg_color = {}"
   ]
  },
  {
   "cell_type": "code",
   "execution_count": 42,
   "id": "technological-girlfriend",
   "metadata": {},
   "outputs": [],
   "source": [
    "for genre in genre_color_embeddings:\n",
    "    genre_avg_color[genre] = np.mean(genre_color_embeddings[genre], axis=0)"
   ]
  },
  {
   "cell_type": "code",
   "execution_count": 45,
   "id": "sporting-windows",
   "metadata": {},
   "outputs": [
    {
     "data": {
      "text/plain": [
       "[('John French Sloan', '1920'),\n",
       " ('M.C. Escher', '1918'),\n",
       " ('Nikola Tanev', '1932'),\n",
       " ('Vasily Polenov', '1903'),\n",
       " ('Kiyoshi Saito', '1947')]"
      ]
     },
     "execution_count": 45,
     "metadata": {},
     "output_type": "execute_result"
    }
   ],
   "source": [
    "list(artist_avg_color.keys())[0:5]"
   ]
  },
  {
   "cell_type": "code",
   "execution_count": 50,
   "id": "scenic-prior",
   "metadata": {},
   "outputs": [
    {
     "data": {
      "text/plain": [
       "[('Cornelia Street', 'John French Sloan', '1920'),\n",
       " ('Sunflowers', 'M.C. Escher', '1918'),\n",
       " ('Red House - Karlovo', 'Nikola Tanev', '1932'),\n",
       " ('Oka. Evening.', 'Vasily Polenov', '1903'),\n",
       " ('Profile of Brown Haired Woman', 'Kiyoshi Saito', '1947'),\n",
       " ('O Diabo, a Paraquedista, Etc', 'Rene Bertholo', '1997'),\n",
       " ('Male Figure Standing', 'Edward Wadsworth', '1911'),\n",
       " (\"Rapt at Rappaport's\", 'Stuart Davis', '1952'),\n",
       " ('After Bath', 'Stefan Luchian', '1907'),\n",
       " ('Milking the Cow', 'Yasuo Kuniyoshi', '1927')]"
      ]
     },
     "execution_count": 50,
     "metadata": {},
     "output_type": "execute_result"
    }
   ],
   "source": [
    "list(artwork_embeddings.keys())[0:10]"
   ]
  },
  {
   "cell_type": "code",
   "execution_count": null,
   "id": "caroline-sense",
   "metadata": {},
   "outputs": [],
   "source": []
  },
  {
   "cell_type": "markdown",
   "id": "individual-foundation",
   "metadata": {},
   "source": [
    "### Search and Clustering Based on Color"
   ]
  },
  {
   "cell_type": "code",
   "execution_count": 47,
   "id": "worldwide-lawrence",
   "metadata": {},
   "outputs": [],
   "source": [
    "import operator"
   ]
  },
  {
   "cell_type": "code",
   "execution_count": 48,
   "id": "temporal-commission",
   "metadata": {},
   "outputs": [],
   "source": [
    "def find_similar(name, dictionary, n=5, other_dict=None, reverse=False):\n",
    "    angles = {}\n",
    "    if name in dictionary:\n",
    "        vec = dictionary[name]\n",
    "    else:\n",
    "        vec = other_dict[name]\n",
    "    for entity in dictionary:\n",
    "        if entity != name:\n",
    "            angles[entity] = jensen_shannon(dictionary[entity], vec)\n",
    "    \n",
    "    sorted_n = sorted(angles.items(), key=operator.itemgetter(1))\n",
    "    if not reverse:\n",
    "        return(sorted_n[0:n])\n",
    "    if reverse:\n",
    "        sorted_n.reverse()\n",
    "        return(sorted_n[0:n])"
   ]
  },
  {
   "cell_type": "code",
   "execution_count": 49,
   "id": "objective-sense",
   "metadata": {},
   "outputs": [
    {
     "data": {
      "text/plain": [
       "[(('Lynd Ward', '1950'), 8.784193926200689e-06),\n",
       " (('David Alfaro Siqueiros', '1951'), 1.2442009065930827e-05),\n",
       " (('Vasile Dobrian', '1947'), 2.4346916111601035e-05),\n",
       " (('Peter Busa', '1957'), 0.00012806179358479906),\n",
       " (('Heorhiy Narbut', '1915'), 0.000169857979084967)]"
      ]
     },
     "execution_count": 49,
     "metadata": {},
     "output_type": "execute_result"
    }
   ],
   "source": [
    "find_similar(('M.C. Escher', '1918'), artist_avg_color)"
   ]
  },
  {
   "cell_type": "code",
   "execution_count": 81,
   "id": "interested-exclusion",
   "metadata": {},
   "outputs": [
    {
     "data": {
      "text/plain": [
       "[(('View of Fortundalen', 'Johan Christian Dahl', '1836'),\n",
       "  0.0026408282310998333),\n",
       " (('Angel of the Resurrection', 'Louis Comfort Tiffany', '1904'),\n",
       "  0.0027940686802629218),\n",
       " ((\"Mr. Delo's Yello Wall\", 'Hiroyuki Tajima', '1970'), 0.002956243429431807),\n",
       " (('Flora Pool in Versailles', 'Alexandre Benois', '1906'),\n",
       "  0.0031719792084325435),\n",
       " (('Proiezione', 'Emilio Scanavino', '1960'), 0.0032055225380816276)]"
      ]
     },
     "execution_count": 81,
     "metadata": {},
     "output_type": "execute_result"
    }
   ],
   "source": [
    "find_similar(('The old blind guitarist', 'Pablo Picasso', '1903'), artwork_embeddings)"
   ]
  },
  {
   "cell_type": "markdown",
   "id": "stainless-underwear",
   "metadata": {},
   "source": [
    "### Aggregate all Embeddings"
   ]
  },
  {
   "cell_type": "code",
   "execution_count": 53,
   "id": "classical-youth",
   "metadata": {},
   "outputs": [],
   "source": [
    "def aggregate_embeddings(embeddings):\n",
    "    agg_embedding = {}\n",
    "    for embedding in embeddings:\n",
    "        emb, year = embedding\n",
    "        if emb not in agg_embedding:\n",
    "            agg_embedding[emb] = []\n",
    "        if emb in agg_embedding:\n",
    "            for embed in embeddings[embedding]:\n",
    "                if not np.isnan(embed.any()):\n",
    "                    agg_embedding[emb].append(embed)\n",
    "    return agg_embedding"
   ]
  },
  {
   "cell_type": "code",
   "execution_count": 90,
   "id": "demonstrated-extreme",
   "metadata": {},
   "outputs": [],
   "source": [
    "agg_genre_color_embedding = aggregate_embeddings(genre_color_embeddings)"
   ]
  },
  {
   "cell_type": "code",
   "execution_count": 91,
   "id": "valued-carbon",
   "metadata": {},
   "outputs": [],
   "source": [
    "agg_style_color_embedding = aggregate_embeddings(style_color_embeddings)"
   ]
  },
  {
   "cell_type": "code",
   "execution_count": 54,
   "id": "consistent-reach",
   "metadata": {},
   "outputs": [],
   "source": [
    "agg_artist_color_embedding = aggregate_embeddings(artist_color_embeddings)"
   ]
  },
  {
   "cell_type": "markdown",
   "id": "curious-accounting",
   "metadata": {},
   "source": [
    "### Dataset Statistics"
   ]
  },
  {
   "cell_type": "code",
   "execution_count": 88,
   "id": "oriental-reader",
   "metadata": {},
   "outputs": [
    {
     "data": {
      "text/plain": [
       "24857"
      ]
     },
     "execution_count": 88,
     "metadata": {},
     "output_type": "execute_result"
    }
   ],
   "source": [
    "len(artist_avg_color)"
   ]
  },
  {
   "cell_type": "code",
   "execution_count": 86,
   "id": "municipal-following",
   "metadata": {},
   "outputs": [
    {
     "data": {
      "text/plain": [
       "1626"
      ]
     },
     "execution_count": 86,
     "metadata": {},
     "output_type": "execute_result"
    }
   ],
   "source": [
    "len(agg_artist_color_embedding)"
   ]
  },
  {
   "cell_type": "code",
   "execution_count": 87,
   "id": "coupled-cassette",
   "metadata": {},
   "outputs": [
    {
     "data": {
      "text/plain": [
       "64805"
      ]
     },
     "execution_count": 87,
     "metadata": {},
     "output_type": "execute_result"
    }
   ],
   "source": [
    "len(artwork_embeddings)"
   ]
  },
  {
   "cell_type": "code",
   "execution_count": 92,
   "id": "opened-morrison",
   "metadata": {},
   "outputs": [
    {
     "data": {
      "text/plain": [
       "6402"
      ]
     },
     "execution_count": 92,
     "metadata": {},
     "output_type": "execute_result"
    }
   ],
   "source": [
    "len(genre_avg_color)"
   ]
  },
  {
   "cell_type": "code",
   "execution_count": 93,
   "id": "approximate-concentration",
   "metadata": {},
   "outputs": [
    {
     "data": {
      "text/plain": [
       "42"
      ]
     },
     "execution_count": 93,
     "metadata": {},
     "output_type": "execute_result"
    }
   ],
   "source": [
    "len(agg_genre_color_embedding)"
   ]
  },
  {
   "cell_type": "code",
   "execution_count": 94,
   "id": "useful-finland",
   "metadata": {},
   "outputs": [
    {
     "data": {
      "text/plain": [
       "6055"
      ]
     },
     "execution_count": 94,
     "metadata": {},
     "output_type": "execute_result"
    }
   ],
   "source": [
    "len(style_avg_color)"
   ]
  },
  {
   "cell_type": "code",
   "execution_count": 95,
   "id": "russian-olive",
   "metadata": {},
   "outputs": [
    {
     "data": {
      "text/plain": [
       "132"
      ]
     },
     "execution_count": 95,
     "metadata": {},
     "output_type": "execute_result"
    }
   ],
   "source": [
    "len(agg_style_color_embedding)"
   ]
  },
  {
   "cell_type": "code",
   "execution_count": null,
   "id": "right-period",
   "metadata": {},
   "outputs": [],
   "source": []
  },
  {
   "cell_type": "code",
   "execution_count": null,
   "id": "unavailable-oakland",
   "metadata": {},
   "outputs": [],
   "source": []
  },
  {
   "cell_type": "markdown",
   "id": "appropriate-static",
   "metadata": {},
   "source": [
    "#### PCA analysis"
   ]
  },
  {
   "cell_type": "code",
   "execution_count": 62,
   "id": "introductory-presentation",
   "metadata": {},
   "outputs": [],
   "source": [
    "acc_matrix = []\n",
    "acc_label = []\n",
    "counter = 0\n",
    "\n",
    "for label, embeddings in agg_artist_color_embedding.items():\n",
    "    for embed in embeddings: \n",
    "        acc_matrix.append(embed)\n",
    "        acc_label.append(label)\n",
    "matrix = np.stack(acc_matrix)\n",
    "labels = np.array(acc_label)"
   ]
  },
  {
   "cell_type": "code",
   "execution_count": 63,
   "id": "violent-retrieval",
   "metadata": {},
   "outputs": [],
   "source": [
    "import sklearn.decomposition  as dec\n",
    "import matplotlib.pyplot as plt\n",
    "import seaborn as sns\n",
    "model = dec.PCA(2)\n",
    "matrix_red = model.fit_transform(matrix)"
   ]
  },
  {
   "cell_type": "code",
   "execution_count": 96,
   "id": "finished-affect",
   "metadata": {},
   "outputs": [
    {
     "data": {
      "image/png": "[encoded data removed]",
      "text/plain": [
       "<Figure size 576x576 with 1 Axes>"
      ]
     },
     "metadata": {
      "needs_background": "light"
     },
     "output_type": "display_data"
    }
   ],
   "source": [
    "from collections import Counter\n",
    "fig, axs = plt.subplots(1, 1, figsize=(8, 8))\n",
    "most_common = Counter(labels).most_common(20)\n",
    "\n",
    "for k, _ in most_common:\n",
    "    x = matrix_red[labels == k, 0].mean()\n",
    "    y = matrix_red[labels == k, 1].mean()\n",
    "    axs.scatter(x, y, label=k)\n",
    "    axs.text(x + 0.002, y + 0.002, s=k, ha=\"left\")\n",
    "\n",
    "plt.xlabel(\"Dimension 0 of PCA\")\n",
    "plt.ylabel(\"Dimension 1 of PCA\")\n",
    "plt.title(\"PCA Analysis of Color of the 20 most represented Artists\")\n",
    "plt.savefig(\"aggregate_color_pca.pdf\")\n",
    "plt.show()\n"
   ]
  },
  {
   "cell_type": "code",
   "execution_count": 68,
   "id": "potential-toner",
   "metadata": {},
   "outputs": [
    {
     "data": {
      "text/plain": [
       "<matplotlib.collections.PathCollection at 0x15f8ce6a0>"
      ]
     },
     "execution_count": 68,
     "metadata": {},
     "output_type": "execute_result"
    },
    {
     "data": {
      "image/png": "[encoded data removed]",
      "text/plain": [
       "<Figure size 432x288 with 1 Axes>"
      ]
     },
     "metadata": {
      "needs_background": "light"
     },
     "output_type": "display_data"
    }
   ],
   "source": [
    "plt.scatter(matrix_red[labels == \"Pablo Picasso\", 0], matrix_red[labels == \"Pablo Picasso\", 1])\n",
    "plt.scatter(matrix_red[labels == \"Vincent van Gogh\", 0], matrix_red[labels == \"Vincent van Gogh\", 1])\n"
   ]
  },
  {
   "cell_type": "code",
   "execution_count": 69,
   "id": "included-hampton",
   "metadata": {},
   "outputs": [
    {
     "data": {
      "text/plain": [
       "<matplotlib.collections.PathCollection at 0x169360be0>"
      ]
     },
     "execution_count": 69,
     "metadata": {},
     "output_type": "execute_result"
    },
    {
     "data": {
      "image/png": "[encoded data removed]",
      "text/plain": [
       "<Figure size 432x288 with 1 Axes>"
      ]
     },
     "metadata": {
      "needs_background": "light"
     },
     "output_type": "display_data"
    }
   ],
   "source": [
    "plt.scatter(matrix_red[labels == \"Ilya Repin\", 0], matrix_red[labels == \"Ilya Repin\", 1])\n",
    "plt.scatter(matrix_red[labels == \"Vincent van Gogh\", 0], matrix_red[labels == \"Vincent van Gogh\", 1])\n"
   ]
  },
  {
   "cell_type": "code",
   "execution_count": null,
   "id": "fifty-floor",
   "metadata": {},
   "outputs": [],
   "source": []
  }
 ],
 "metadata": {
  "kernelspec": {
   "display_name": "Python 3",
   "language": "python",
   "name": "python3"
  },
  "language_info": {
   "codemirror_mode": {
    "name": "ipython",
    "version": 3
   },
   "file_extension": ".py",
   "mimetype": "text/x-python",
   "name": "python",
   "nbconvert_exporter": "python",
   "pygments_lexer": "ipython3",
   "version": "3.9.10"
  }
 },
 "nbformat": 4,
 "nbformat_minor": 5
}
